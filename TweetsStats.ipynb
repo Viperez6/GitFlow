{
 "cells": [
  {
   "cell_type": "markdown",
   "metadata": {},
   "source": [
    "### Imports"
   ]
  },
  {
   "cell_type": "code",
   "execution_count": null,
   "metadata": {},
   "outputs": [],
   "source": [
    "import pandas as pd\n",
    "from IPython.display import display\n",
    "import json"
   ]
  },
  {
   "cell_type": "markdown",
   "metadata": {},
   "source": [
    "## Data load"
   ]
  },
  {
   "cell_type": "code",
   "execution_count": null,
   "metadata": {},
   "outputs": [],
   "source": [
    "def loadJSONToDF(filePath, dataCount):\n",
    "    tweetsDF = pd.DataFrame()\n",
    "    print(\"Started Reading JSON file which contains multiple JSON document\")\n",
    "    with open(filePath) as f:\n",
    "        i = 0\n",
    "        for jsonObj in f:\n",
    "            tweetDict = json.loads(jsonObj)\n",
    "            cleanTweet = {\n",
    "                'username' : [tweetDict['user']['username']],\n",
    "                'date' : [tweetDict['date']],\n",
    "                'content' : [tweetDict['content']],\n",
    "                'retweets' : [tweetDict['retweetCount']]\n",
    "            }\n",
    "            tweetsDFAux = pd.DataFrame(cleanTweet)\n",
    "            tweetsDF = pd.concat([tweetsDF, tweetsDFAux], ignore_index = True, axis = 0)\n",
    "            if (i == dataCount ): break\n",
    "            i+=1\n",
    "    return tweetsDF"
   ]
  },
  {
   "cell_type": "markdown",
   "metadata": {},
   "source": [
    "## Top 10 Retweets"
   ]
  },
  {
   "cell_type": "code",
   "execution_count": 11,
   "metadata": {},
   "outputs": [],
   "source": [
    "def getTopTenRetweets(tweetsDF):\n",
    "    topTen = tweetsDF.nlargest(10, 'retweets')\n",
    "    display(topTen)"
   ]
  },
  {
   "cell_type": "markdown",
   "metadata": {},
   "source": [
    "## Top 10 User Tweets"
   ]
  },
  {
   "cell_type": "code",
   "execution_count": 13,
   "metadata": {},
   "outputs": [],
   "source": [
    "def getTopTenUserTweets(tweetsDF):\n",
    "    topTen = tweetsDF['username'].value_counts()[:10]\n",
    "    display(topTen)"
   ]
  },
  {
   "cell_type": "markdown",
   "metadata": {},
   "source": [
    "## Main"
   ]
  },
  {
   "cell_type": "code",
   "execution_count": 14,
   "metadata": {},
   "outputs": [
    {
     "name": "stdout",
     "output_type": "stream",
     "text": [
      "Started Reading JSON file which contains multiple JSON document\n"
     ]
    },
    {
     "data": {
      "text/html": [
       "<div>\n",
       "<style scoped>\n",
       "    .dataframe tbody tr th:only-of-type {\n",
       "        vertical-align: middle;\n",
       "    }\n",
       "\n",
       "    .dataframe tbody tr th {\n",
       "        vertical-align: top;\n",
       "    }\n",
       "\n",
       "    .dataframe thead th {\n",
       "        text-align: right;\n",
       "    }\n",
       "</style>\n",
       "<table border=\"1\" class=\"dataframe\">\n",
       "  <thead>\n",
       "    <tr style=\"text-align: right;\">\n",
       "      <th></th>\n",
       "      <th>username</th>\n",
       "      <th>date</th>\n",
       "      <th>content</th>\n",
       "      <th>retweets</th>\n",
       "    </tr>\n",
       "  </thead>\n",
       "  <tbody>\n",
       "    <tr>\n",
       "      <th>372</th>\n",
       "      <td>NavJammu</td>\n",
       "      <td>2021-03-30T01:54:37+00:00</td>\n",
       "      <td>Did you know farmers in India continue to live...</td>\n",
       "      <td>206</td>\n",
       "    </tr>\n",
       "    <tr>\n",
       "      <th>464</th>\n",
       "      <td>NavJammu</td>\n",
       "      <td>2021-03-30T01:46:47+00:00</td>\n",
       "      <td>Let’s stand with our elders &amp;amp; show the wor...</td>\n",
       "      <td>160</td>\n",
       "    </tr>\n",
       "    <tr>\n",
       "      <th>526</th>\n",
       "      <td>NavJammu</td>\n",
       "      <td>2021-03-30T01:36:21+00:00</td>\n",
       "      <td>Greetings everyone! 🙏🏼\\n\\nFarmers have been pe...</td>\n",
       "      <td>153</td>\n",
       "    </tr>\n",
       "    <tr>\n",
       "      <th>443</th>\n",
       "      <td>Tractor2twitr</td>\n",
       "      <td>2021-03-30T01:49:00+00:00</td>\n",
       "      <td>Media &amp;amp; Govt maligned farmers with all sor...</td>\n",
       "      <td>143</td>\n",
       "    </tr>\n",
       "    <tr>\n",
       "      <th>516</th>\n",
       "      <td>NavJammu</td>\n",
       "      <td>2021-03-30T01:40:39+00:00</td>\n",
       "      <td>Just like migrant workers didn’t choose to sta...</td>\n",
       "      <td>141</td>\n",
       "    </tr>\n",
       "    <tr>\n",
       "      <th>509</th>\n",
       "      <td>NavJammu</td>\n",
       "      <td>2021-03-30T01:42:45+00:00</td>\n",
       "      <td>Who will voluntarily sit on roads if their liv...</td>\n",
       "      <td>92</td>\n",
       "    </tr>\n",
       "    <tr>\n",
       "      <th>274</th>\n",
       "      <td>NavJammu</td>\n",
       "      <td>2021-03-30T02:16:38+00:00</td>\n",
       "      <td>While farmers have planted seeds of love, bjp ...</td>\n",
       "      <td>86</td>\n",
       "    </tr>\n",
       "    <tr>\n",
       "      <th>352</th>\n",
       "      <td>NavJammu</td>\n",
       "      <td>2021-03-30T01:56:26+00:00</td>\n",
       "      <td>Instead of listening to what the farmers want,...</td>\n",
       "      <td>86</td>\n",
       "    </tr>\n",
       "    <tr>\n",
       "      <th>378</th>\n",
       "      <td>NavJammu</td>\n",
       "      <td>2021-03-30T01:54:11+00:00</td>\n",
       "      <td>I really don’t understand what the bjp govt wa...</td>\n",
       "      <td>83</td>\n",
       "    </tr>\n",
       "    <tr>\n",
       "      <th>519</th>\n",
       "      <td>NavJammu</td>\n",
       "      <td>2021-03-30T01:39:39+00:00</td>\n",
       "      <td>Farmers deserve respect, not hate! \\n\\n#StopHa...</td>\n",
       "      <td>80</td>\n",
       "    </tr>\n",
       "  </tbody>\n",
       "</table>\n",
       "</div>"
      ],
      "text/plain": [
       "          username                       date  \\\n",
       "372       NavJammu  2021-03-30T01:54:37+00:00   \n",
       "464       NavJammu  2021-03-30T01:46:47+00:00   \n",
       "526       NavJammu  2021-03-30T01:36:21+00:00   \n",
       "443  Tractor2twitr  2021-03-30T01:49:00+00:00   \n",
       "516       NavJammu  2021-03-30T01:40:39+00:00   \n",
       "509       NavJammu  2021-03-30T01:42:45+00:00   \n",
       "274       NavJammu  2021-03-30T02:16:38+00:00   \n",
       "352       NavJammu  2021-03-30T01:56:26+00:00   \n",
       "378       NavJammu  2021-03-30T01:54:11+00:00   \n",
       "519       NavJammu  2021-03-30T01:39:39+00:00   \n",
       "\n",
       "                                               content  retweets  \n",
       "372  Did you know farmers in India continue to live...       206  \n",
       "464  Let’s stand with our elders &amp; show the wor...       160  \n",
       "526  Greetings everyone! 🙏🏼\\n\\nFarmers have been pe...       153  \n",
       "443  Media &amp; Govt maligned farmers with all sor...       143  \n",
       "516  Just like migrant workers didn’t choose to sta...       141  \n",
       "509  Who will voluntarily sit on roads if their liv...        92  \n",
       "274  While farmers have planted seeds of love, bjp ...        86  \n",
       "352  Instead of listening to what the farmers want,...        86  \n",
       "378  I really don’t understand what the bjp govt wa...        83  \n",
       "519  Farmers deserve respect, not hate! \\n\\n#StopHa...        80  "
      ]
     },
     "metadata": {},
     "output_type": "display_data"
    },
    {
     "data": {
      "text/plain": [
       "rumsomal           53\n",
       "HarmanS22953138    52\n",
       "rebelpacifist      47\n",
       "with_kaur          44\n",
       "Jass_k_G           30\n",
       "butterfly0o0o0     23\n",
       "jot__b             20\n",
       "Parmind74776100    19\n",
       "Surinderssuri      19\n",
       "Iamjazzie96        18\n",
       "Name: username, dtype: int64"
      ]
     },
     "metadata": {},
     "output_type": "display_data"
    }
   ],
   "source": [
    "def main():\n",
    "    tweetsDF = loadJSONToDF('farmers-protest-tweets-2021-03-5.json', 1000)\n",
    "    # Top 10 Retweets\n",
    "    getTopTenRetweets(tweetsDF)\n",
    "    # Top 10 User Tweets\n",
    "    getTopTenUserTweets(tweetsDF)\n",
    "main()"
   ]
  }
 ],
 "metadata": {
  "interpreter": {
   "hash": "31f2aee4e71d21fbe5cf8b01ff0e069b9275f58929596ceb00d14d90e3e16cd6"
  },
  "kernelspec": {
   "display_name": "Python 3.8.10 64-bit",
   "language": "python",
   "name": "python3"
  },
  "language_info": {
   "codemirror_mode": {
    "name": "ipython",
    "version": 3
   },
   "file_extension": ".py",
   "mimetype": "text/x-python",
   "name": "python",
   "nbconvert_exporter": "python",
   "pygments_lexer": "ipython3",
   "version": "3.8.10"
  },
  "orig_nbformat": 4
 },
 "nbformat": 4,
 "nbformat_minor": 2
}
