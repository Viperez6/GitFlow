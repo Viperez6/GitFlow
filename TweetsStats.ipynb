{
 "cells": [
  {
   "cell_type": "markdown",
   "metadata": {},
   "source": [
    "### Imports"
   ]
  },
  {
   "cell_type": "code",
   "execution_count": 2,
   "metadata": {},
   "outputs": [],
   "source": [
    "import pandas as pd\n",
    "from IPython.display import display\n",
    "import json"
   ]
  },
  {
   "cell_type": "markdown",
   "metadata": {},
   "source": [
    "## Data load"
   ]
  },
  {
   "cell_type": "code",
   "execution_count": 7,
   "metadata": {},
   "outputs": [],
   "source": [
    "def loadJSONToDF(filePath, dataCount):\n",
    "    tweetsDF = pd.DataFrame()\n",
    "    print(\"Started Reading JSON file which contains multiple JSON document\")\n",
    "    with open(filePath) as f:\n",
    "        i = 0\n",
    "        for jsonObj in f:\n",
    "            tweetDict = json.loads(jsonObj)\n",
    "            cleanTweet = {\n",
    "                'username' : [tweetDict['user']['username']],\n",
    "                'date' : [tweetDict['date'].split('T')[0]],\n",
    "                'content' : [tweetDict['content']],\n",
    "                'retweets' : [tweetDict['retweetCount']]\n",
    "            }\n",
    "            tweetsDFAux = pd.DataFrame(cleanTweet)\n",
    "            tweetsDF = pd.concat([tweetsDF, tweetsDFAux], ignore_index = True, axis = 0)\n",
    "            if (i == dataCount ): break\n",
    "            i+=1\n",
    "    return tweetsDF"
   ]
  },
  {
   "cell_type": "markdown",
   "metadata": {},
   "source": [
    "## Top 10 Retweets"
   ]
  },
  {
   "cell_type": "code",
   "execution_count": 8,
   "metadata": {},
   "outputs": [],
   "source": [
    "def getTopTenRetweets(tweetsDF):\n",
    "    topTen = tweetsDF.nlargest(10, 'retweets')\n",
    "    display(topTen)"
   ]
  },
  {
   "cell_type": "markdown",
   "metadata": {},
   "source": [
    "## Top 10 User Tweets"
   ]
  },
  {
   "cell_type": "code",
   "execution_count": 9,
   "metadata": {},
   "outputs": [],
   "source": [
    "def getTopTenUserTweets(tweetsDF):\n",
    "    topTen = tweetsDF['username'].value_counts()[:10]\n",
    "    display(topTen)"
   ]
  },
  {
   "cell_type": "markdown",
   "metadata": {},
   "source": [
    "## Top 10 Days"
   ]
  },
  {
   "cell_type": "code",
   "execution_count": 12,
   "metadata": {},
   "outputs": [],
   "source": [
    "def getTopTenDays(tweetsDF):\n",
    "    topTen = tweetsDF['date'].value_counts()[:10]\n",
    "    display(topTen)"
   ]
  },
  {
   "cell_type": "markdown",
   "metadata": {},
   "source": [
    "## Main"
   ]
  },
  {
   "cell_type": "code",
   "execution_count": 15,
   "metadata": {},
   "outputs": [
    {
     "name": "stdout",
     "output_type": "stream",
     "text": [
      "Started Reading JSON file which contains multiple JSON document\n"
     ]
    },
    {
     "data": {
      "text/html": [
       "<div>\n",
       "<style scoped>\n",
       "    .dataframe tbody tr th:only-of-type {\n",
       "        vertical-align: middle;\n",
       "    }\n",
       "\n",
       "    .dataframe tbody tr th {\n",
       "        vertical-align: top;\n",
       "    }\n",
       "\n",
       "    .dataframe thead th {\n",
       "        text-align: right;\n",
       "    }\n",
       "</style>\n",
       "<table border=\"1\" class=\"dataframe\">\n",
       "  <thead>\n",
       "    <tr style=\"text-align: right;\">\n",
       "      <th></th>\n",
       "      <th>username</th>\n",
       "      <th>date</th>\n",
       "      <th>content</th>\n",
       "      <th>retweets</th>\n",
       "    </tr>\n",
       "  </thead>\n",
       "  <tbody>\n",
       "    <tr>\n",
       "      <th>29485</th>\n",
       "      <td>sushant_says</td>\n",
       "      <td>2021-03-18</td>\n",
       "      <td>I am back #FarmersProtest #FreeAllPoliticalPri...</td>\n",
       "      <td>2797</td>\n",
       "    </tr>\n",
       "    <tr>\n",
       "      <th>41084</th>\n",
       "      <td>MeghUpdates</td>\n",
       "      <td>2021-03-14</td>\n",
       "      <td>Rakesh Tikait's Rally in Nandigram reportedly ...</td>\n",
       "      <td>2074</td>\n",
       "    </tr>\n",
       "    <tr>\n",
       "      <th>44654</th>\n",
       "      <td>J4SHANBAINS</td>\n",
       "      <td>2021-03-13</td>\n",
       "      <td>Revolution is a universal language.\\n\\n#Farmer...</td>\n",
       "      <td>1906</td>\n",
       "    </tr>\n",
       "    <tr>\n",
       "      <th>29582</th>\n",
       "      <td>saahilmenghani</td>\n",
       "      <td>2021-03-18</td>\n",
       "      <td>112 days, #300DeathsAtProtest.\\n\\n#GodiMedia i...</td>\n",
       "      <td>1647</td>\n",
       "    </tr>\n",
       "    <tr>\n",
       "      <th>10107</th>\n",
       "      <td>saahilmenghani</td>\n",
       "      <td>2021-03-26</td>\n",
       "      <td>#BharatBandh's impact visible in Andhra Prades...</td>\n",
       "      <td>1524</td>\n",
       "    </tr>\n",
       "    <tr>\n",
       "      <th>19658</th>\n",
       "      <td>MeghUpdates</td>\n",
       "      <td>2021-03-22</td>\n",
       "      <td>National Highways Authority of India (NHAI) ha...</td>\n",
       "      <td>1439</td>\n",
       "    </tr>\n",
       "    <tr>\n",
       "      <th>36679</th>\n",
       "      <td>srinivasiyc</td>\n",
       "      <td>2021-03-16</td>\n",
       "      <td>Dear India,\\n\\nYou Voted for him,\\nNow he is s...</td>\n",
       "      <td>1387</td>\n",
       "    </tr>\n",
       "    <tr>\n",
       "      <th>33224</th>\n",
       "      <td>Kisanektamorcha</td>\n",
       "      <td>2021-03-17</td>\n",
       "      <td>'Kisan Ekta Morcha' Official Hashtag Will Be R...</td>\n",
       "      <td>1302</td>\n",
       "    </tr>\n",
       "    <tr>\n",
       "      <th>29850</th>\n",
       "      <td>Kisanektamorcha</td>\n",
       "      <td>2021-03-18</td>\n",
       "      <td>Farmers are not only providing food to nearby ...</td>\n",
       "      <td>1283</td>\n",
       "    </tr>\n",
       "    <tr>\n",
       "      <th>3082</th>\n",
       "      <td>saahilmenghani</td>\n",
       "      <td>2021-03-28</td>\n",
       "      <td>#Breaking\\n\\n👉Zee Owner Subhash Chandra had an...</td>\n",
       "      <td>1220</td>\n",
       "    </tr>\n",
       "  </tbody>\n",
       "</table>\n",
       "</div>"
      ],
      "text/plain": [
       "              username        date  \\\n",
       "29485     sushant_says  2021-03-18   \n",
       "41084      MeghUpdates  2021-03-14   \n",
       "44654      J4SHANBAINS  2021-03-13   \n",
       "29582   saahilmenghani  2021-03-18   \n",
       "10107   saahilmenghani  2021-03-26   \n",
       "19658      MeghUpdates  2021-03-22   \n",
       "36679      srinivasiyc  2021-03-16   \n",
       "33224  Kisanektamorcha  2021-03-17   \n",
       "29850  Kisanektamorcha  2021-03-18   \n",
       "3082    saahilmenghani  2021-03-28   \n",
       "\n",
       "                                                 content  retweets  \n",
       "29485  I am back #FarmersProtest #FreeAllPoliticalPri...      2797  \n",
       "41084  Rakesh Tikait's Rally in Nandigram reportedly ...      2074  \n",
       "44654  Revolution is a universal language.\\n\\n#Farmer...      1906  \n",
       "29582  112 days, #300DeathsAtProtest.\\n\\n#GodiMedia i...      1647  \n",
       "10107  #BharatBandh's impact visible in Andhra Prades...      1524  \n",
       "19658  National Highways Authority of India (NHAI) ha...      1439  \n",
       "36679  Dear India,\\n\\nYou Voted for him,\\nNow he is s...      1387  \n",
       "33224  'Kisan Ekta Morcha' Official Hashtag Will Be R...      1302  \n",
       "29850  Farmers are not only providing food to nearby ...      1283  \n",
       "3082   #Breaking\\n\\n👉Zee Owner Subhash Chandra had an...      1220  "
      ]
     },
     "metadata": {},
     "output_type": "display_data"
    },
    {
     "data": {
      "text/plain": [
       "rebelpacifist      939\n",
       "rumsomal           901\n",
       "tasveersandhu      865\n",
       "Monika09213292     831\n",
       "Jass_k_G           812\n",
       "GurmVicky          768\n",
       "Iamjazzie96        734\n",
       "AhluwaliaA2        645\n",
       "with_kaur          587\n",
       "shells_n_petals    558\n",
       "Name: username, dtype: int64"
      ]
     },
     "metadata": {},
     "output_type": "display_data"
    },
    {
     "data": {
      "text/plain": [
       "2021-03-26    3958\n",
       "2021-03-16    3113\n",
       "2021-03-27    2995\n",
       "2021-03-18    2964\n",
       "2021-03-21    2650\n",
       "2021-03-20    2595\n",
       "2021-03-25    2584\n",
       "2021-03-19    2516\n",
       "2021-03-13    2492\n",
       "2021-03-17    2451\n",
       "Name: date, dtype: int64"
      ]
     },
     "metadata": {},
     "output_type": "display_data"
    }
   ],
   "source": [
    "def main():\n",
    "    tweetsDF = loadJSONToDF('farmers-protest-tweets-2021-03-5.json', 50000)\n",
    "    # Top 10 Retweets\n",
    "    getTopTenRetweets(tweetsDF)\n",
    "    # Top 10 User Tweets\n",
    "    getTopTenUserTweets(tweetsDF)\n",
    "    #top 10 Days\n",
    "    getTopTenDays(tweetsDF)\n",
    "    \n",
    "main()"
   ]
  }
 ],
 "metadata": {
  "interpreter": {
   "hash": "31f2aee4e71d21fbe5cf8b01ff0e069b9275f58929596ceb00d14d90e3e16cd6"
  },
  "kernelspec": {
   "display_name": "Python 3.8.10 64-bit",
   "language": "python",
   "name": "python3"
  },
  "language_info": {
   "codemirror_mode": {
    "name": "ipython",
    "version": 3
   },
   "file_extension": ".py",
   "mimetype": "text/x-python",
   "name": "python",
   "nbconvert_exporter": "python",
   "pygments_lexer": "ipython3",
   "version": "3.8.10"
  },
  "orig_nbformat": 4
 },
 "nbformat": 4,
 "nbformat_minor": 2
}
