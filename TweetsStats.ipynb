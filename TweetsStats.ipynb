{
 "cells": [
  {
   "cell_type": "markdown",
   "metadata": {},
   "source": [
    "### Imports"
   ]
  },
  {
   "cell_type": "code",
   "execution_count": null,
   "metadata": {},
   "outputs": [],
   "source": [
    "import pandas as pd\n",
    "from IPython.display import display\n",
    "import json"
   ]
  },
  {
   "cell_type": "markdown",
   "metadata": {},
   "source": [
    "## Data load"
   ]
  },
  {
   "cell_type": "code",
   "execution_count": null,
   "metadata": {},
   "outputs": [],
   "source": [
    "def loadJSONToDF(filePath, dataCount):\n",
    "    tweetsDF = pd.DataFrame()\n",
    "    print(\"Started Reading JSON file which contains multiple JSON document\")\n",
    "    with open(filePath) as f:\n",
    "        i = 0\n",
    "        for jsonObj in f:\n",
    "            tweetDict = json.loads(jsonObj)\n",
    "            cleanTweet = {\n",
    "                'username' : [tweetDict['user']['username']],\n",
    "                'date' : [tweetDict['date']],\n",
    "                'content' : [tweetDict['content']],\n",
    "                'retweets' : [tweetDict['retweetCount']]\n",
    "            }\n",
    "            tweetsDFAux = pd.DataFrame(cleanTweet)\n",
    "            tweetsDF = pd.concat([tweetsDF, tweetsDFAux], ignore_index = True, axis = 0)\n",
    "            if (i == dataCount ): break\n",
    "            i+=1\n",
    "    return tweetsDF"
   ]
  },
  {
   "cell_type": "markdown",
   "metadata": {},
   "source": [
    "## Main"
   ]
  },
  {
   "cell_type": "code",
   "execution_count": 7,
   "metadata": {},
   "outputs": [
    {
     "name": "stdout",
     "output_type": "stream",
     "text": [
      "Started Reading JSON file which contains multiple JSON document\n"
     ]
    }
   ],
   "source": [
    "def main():\n",
    "    tweetsDF = loadJSONToDF('farmers-protest-tweets-2021-03-5.json', 1000)\n",
    "    display(tweetsDF.head(5))\n",
    "\n",
    "main()"
   ]
  }
 ],
 "metadata": {
  "interpreter": {
   "hash": "31f2aee4e71d21fbe5cf8b01ff0e069b9275f58929596ceb00d14d90e3e16cd6"
  },
  "kernelspec": {
   "display_name": "Python 3.8.10 64-bit",
   "language": "python",
   "name": "python3"
  },
  "language_info": {
   "codemirror_mode": {
    "name": "ipython",
    "version": 3
   },
   "file_extension": ".py",
   "mimetype": "text/x-python",
   "name": "python",
   "nbconvert_exporter": "python",
   "pygments_lexer": "ipython3",
   "version": "3.8.10"
  },
  "orig_nbformat": 4
 },
 "nbformat": 4,
 "nbformat_minor": 2
}
